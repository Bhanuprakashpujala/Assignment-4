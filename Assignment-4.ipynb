{
 "cells": [
  {
   "cell_type": "code",
   "execution_count": 4,
   "id": "0a381e5b",
   "metadata": {},
   "outputs": [
    {
     "name": "stdout",
     "output_type": "stream",
     "text": [
      "enter the number 1\n",
      "enter the number 5\n",
      "enter the number 5\n",
      "enter the number 3\n",
      "enter the number 4\n"
     ]
    },
    {
     "data": {
      "text/plain": [
       "{1, 3, 4, 5}"
      ]
     },
     "execution_count": 4,
     "metadata": {},
     "output_type": "execute_result"
    }
   ],
   "source": [
    "#1. Given a list of numbers, write a python program that returns a new list which Has all\n",
    "#duplicate elements removed. And is sorted in an increasing order.\n",
    " #Ex:\n",
    "#Input:\n",
    "#[2,1,3,4,2,3,3,2,7,9,8,7]\n",
    "#Output:\n",
    "#[1,2,3,4,7,8,9]\n",
    "l=[]\n",
    "for i in range(1,6):\n",
    "    a=int(input(\"enter the number \"))\n",
    "    l.append(a)\n",
    "l.sort()\n",
    "set(l)\n",
    "\n",
    "    \n",
    "                                                                                  \n"
   ]
  },
  {
   "cell_type": "code",
   "execution_count": 1,
   "id": "418e30f1",
   "metadata": {},
   "outputs": [
    {
     "name": "stdout",
     "output_type": "stream",
     "text": [
      "enter key \"bhanu\"\n",
      "enter the values \"name\"\n",
      "enter key \"age\"\n",
      "enter the values 22\n",
      "enter key 12345\n",
      "enter the values 54321\n",
      "enter key 30.0\n",
      "enter the values 30\n",
      "the keys are   \"bhanu\"\n",
      "the keys are   \"age\"\n",
      "the keys are   12345\n",
      "the keys are   30.0\n",
      "the values are  \"name\"\n",
      "the values are  22\n",
      "the values are  54321\n",
      "the values are  30\n"
     ]
    }
   ],
   "source": [
    "#2. Write a Python program where you will iterate over both keys and values in dictionaries\n",
    "d={}\n",
    "for i in range(1,5):\n",
    "  a=input(\"enter key \")\n",
    "  v=input(\"enter the values \")\n",
    "  d.update({a:v})\n",
    "for i in d.keys():\n",
    "  print(\"the keys are  \",i)\n",
    "for j in d.values():\n",
    "  print(\"the values are \",j)"
   ]
  },
  {
   "cell_type": "code",
   "execution_count": 3,
   "id": "5ee097b8",
   "metadata": {},
   "outputs": [
    {
     "name": "stdout",
     "output_type": "stream",
     "text": [
      "enter student name bhanu\n",
      "enter the student roll number 1\n",
      "enter student name prakash\n",
      "enter the student roll number 4\n",
      "enter student name nandini\n",
      "enter the student roll number 5\n",
      "enter student name maesh\n",
      "enter the student roll number 7\n",
      "enter student name swathi\n",
      "enter the student roll number 22\n",
      "enter student name bhavani\n",
      "enter the student roll number 33\n",
      "enter student name rahul\n",
      "enter the student roll number 33\n",
      "enter student name siri\n",
      "enter the student roll number 45\n",
      "enter student name zooolo\n",
      "enter the student roll number 55\n",
      "students are   ['bhanu', 'bhavani', 'maesh', 'nandini', 'prakash', 'rahul', 'siri', 'swathi', 'zooolo']\n"
     ]
    }
   ],
   "source": [
    "#3.Write a Python program that takes a dictionary of student names and returns a list of student names in alphabetical order\n",
    "#Ex:\n",
    "#Input:\n",
    "#{“Student 1”: \"Tarun\", \"Student 2”: \"Manoj\", \"Student 3”: \"Gephi”}\n",
    "#Output:\n",
    " #[“Gephi”,”  Manoj”,” Tarun”]\n",
    "d={}\n",
    "for i in range(1,10):\n",
    "    a=input(\"enter student name \")\n",
    "    v=input(\"enter the student roll number \")\n",
    "    d.update({a:v})\n",
    "k=list(d.keys())\n",
    "k.sort()\n",
    "print(\"students are  \",k)"
   ]
  },
  {
   "cell_type": "code",
   "execution_count": 1,
   "id": "8df62f74",
   "metadata": {},
   "outputs": [
    {
     "name": "stdout",
     "output_type": "stream",
     "text": [
      "enetr a binary number 101101010110\n",
      "['True', 'False', 'True', 'True', 'False', 'True', 'False', 'True', 'False', 'True', 'True', 'False'],"
     ]
    }
   ],
   "source": [
    "#4. Write a Python which returns a new list of Booleans, from a given number. Iterating\n",
    "#through the number one digit at a time, append True if the digit is 1 and False if it is 0.\n",
    "#Ex:\n",
    "#Input: “01001”\n",
    "#Output: [“False”, “True”, “False”,” False”,” True”]\n",
    "a=list(input(\"enetr a binary number \"))\n",
    "a\n",
    "b=[]\n",
    "for i in a:\n",
    "  if i==\"0\":\n",
    "    b.append(\"False\")\n",
    "  elif i==\"1\":\n",
    "    b.append(\"True\")\n",
    "print(b,end=\",\")"
   ]
  },
  {
   "cell_type": "code",
   "execution_count": 2,
   "id": "830deb66",
   "metadata": {},
   "outputs": [
    {
     "name": "stdout",
     "output_type": "stream",
     "text": [
      "[False, True, False, False, True, True, True, True, True, False, False, False, False],"
     ]
    }
   ],
   "source": [
    "# using lambda\n",
    "print(list(map(lambda x:x==0,[1,0,1,1,0,0,0,0,0,1,1,1,1,])),end=\",\")"
   ]
  },
  {
   "cell_type": "code",
   "execution_count": 6,
   "id": "893f3c9b",
   "metadata": {},
   "outputs": [
    {
     "name": "stdout",
     "output_type": "stream",
     "text": [
      "Enter the data : bhanuprakashpujala\n",
      "{'p': 2, 'u': 2, 'r': 1, 'l': 1, 'b': 1, 'k': 1, 'n': 1, 'h': 2, 's': 1, 'j': 1, 'a': 5}\n"
     ]
    }
   ],
   "source": [
    "#5.Write a Python program where you will return a dictionary where the keys will be the\n",
    "#character and the values will be the occurrence of the character in the string, and it\n",
    "#should for any string inputs (dynamic)\n",
    "#Ex:\n",
    "#Input: “my name is ame”\n",
    "#Output: {“m”:3,” y”:1,” n”:1,” a”:2,” e”:2,” i”:1,” s”:1}\n",
    "x=input(\"Enter the data : \")\n",
    "b=set(x)\n",
    "c=list(b)\n",
    "dict1={}\n",
    "for i in c:\n",
    "    dict1.update({i:x.count(i)})\n",
    "print(dict1)"
   ]
  },
  {
   "cell_type": "code",
   "execution_count": 3,
   "id": "5b9876d2",
   "metadata": {},
   "outputs": [
    {
     "name": "stdout",
     "output_type": "stream",
     "text": [
      "enter key bhanu\n",
      "enter the values 22\n",
      "enter key anasurya\n",
      "enter the values 45\n",
      "enter key mahesh\n",
      "enter the values 29\n",
      "enter key bhavani\n",
      "enter the values 22\n",
      "anasurya\n"
     ]
    }
   ],
   "source": [
    "#6. Given a dictionary containing the names and ages of a group of people, return the\n",
    "#name of the oldest person\n",
    "#Ex:\n",
    "#Input: {\"Tmma\": 41, \"Ackes\": 45, \"myna\": 15, \"Benthon\": 29}\n",
    "#Output: “Ackes”\n",
    "d={}\n",
    "for i in range(1,5):\n",
    "  a=input(\"enter key \")\n",
    "  v=input(\"enter the values \")\n",
    "  d.update({a:v})\n",
    "m=max(d.values())\n",
    "for i in d:\n",
    "  if d[i]==m:\n",
    "      print(i)"
   ]
  },
  {
   "cell_type": "code",
   "execution_count": 5,
   "id": "709d35eb",
   "metadata": {},
   "outputs": [
    {
     "name": "stdout",
     "output_type": "stream",
     "text": [
      "please enter your name: bhanu\n",
      "please enter your name: nandu\n",
      "bhanu please choose one from: [rock,paper,scissor] : rock\n",
      "nandu please choose one from: [rock,paper,scissor] : paper\n",
      "nandu wins\n"
     ]
    }
   ],
   "source": [
    "#7. Write a Python program to create a Rock, Paper, Scissor game, use two inputs for two\n",
    "#players:\n",
    "#Conditions: -Rock beats Scissors, Scissors beats Paper, Paper beats Rock\n",
    "a=input('please enter your name: ')\n",
    "b=input('please enter your name: ')\n",
    "p_1=input(f\"{a} please choose one from: [rock,paper,scissor] : \")\n",
    "p_2=input(f\"{b} please choose one from: [rock,paper,scissor] : \")\n",
    "if p_1=='rock' and p_2=='paper':\n",
    "    print('{} wins'.format(b))\n",
    "elif p_1=='rock' and p_2=='scissor':\n",
    "    print('{} wins'.format(a))\n",
    "elif p_1=='paper' and p_2=='scissor':\n",
    "    print('{} wins'.format(b))\n",
    "elif p_1=='paper' and p_2=='rock':\n",
    "    print('{} wins'.format(a))\n",
    "elif p_1=='scissor' and p_2=='rock':\n",
    "    print('{} wins'.format(b))\n",
    "elif p_1=='scissor' and p_2=='paper':\n",
    "    print('{} wins'.format(a))\n",
    "elif p_1=='rock' and p_2=='rock' or p_1=='paper' and p_2=='paper' or  p_1=='scissor' and p_2=='scissor':\n",
    "    print('{} and {} were draw'.format(a,b))\n",
    "else:\n",
    "    print(\"Think ther's spelling mistake or you have entered incorrect word, please check once?\")\n",
    "    print(\"Note: Enter all in the lowercase and check again.\")"
   ]
  },
  {
   "cell_type": "code",
   "execution_count": 10,
   "id": "79abc583",
   "metadata": {},
   "outputs": [
    {
     "name": "stdout",
     "output_type": "stream",
     "text": [
      "enter your wallet amount 80\n",
      "enter item  name biryani\n",
      "enter the price  120\n",
      "enter item  name rice\n",
      "enter the price  70\n",
      "enter item  name fried rice\n",
      "enter the price  60\n",
      "enter item  name pulihora\n",
      "enter the price  50\n",
      "enter item  name gongura rice\n",
      "enter the price  70\n"
     ]
    },
    {
     "data": {
      "text/plain": [
       "['rice', 'fried rice', 'pulihora', 'gongura rice']"
      ]
     },
     "execution_count": 10,
     "metadata": {},
     "output_type": "execute_result"
    }
   ],
   "source": [
    "#8. Create a program that returns a list of items that you can afford in the store with the\n",
    "#money you have in your wallet. Create a dictionary with items as key and price as\n",
    "#values\n",
    "#Ex:\n",
    "#Input:\n",
    "#{“water bottles”: “20”,” chips”:10,” Iphone”;49000“,” towel”:90,” pens”:58,” cake”;400}\n",
    "#Your wallet balance: -50\n",
    "#Output: [“water bottles”, “chips”]\n",
    "d={}\n",
    "p=int(input(\"enter your wallet amount \"))\n",
    "l=[]\n",
    "for i in range(1,6):\n",
    "  a=input(\"enter item  name \")\n",
    "  v=int(input(\"enter the price  \"))\n",
    "  d.update({a:v})\n",
    "for i,j in d.items():\n",
    "  if j<=p:\n",
    "     l.append(i)\n",
    "l\n"
   ]
  },
  {
   "cell_type": "code",
   "execution_count": 8,
   "id": "b389b34b",
   "metadata": {},
   "outputs": [
    {
     "name": "stdout",
     "output_type": "stream",
     "text": [
      "enter the data for set1 1\n",
      "enter the data for set1 2\n",
      "enter the data for set1 3\n",
      "enter the data for set1 a\n",
      "enter the data for set1 b\n",
      "enter the data for set1 c\n",
      "enter the data for set1 d\n",
      "enter the data for set1 5\n",
      "enter the data for set1 6\n",
      "enter the data for set2 7\n",
      "enter the data for set2 8\n",
      "enter the data for set2 9\n",
      "enter the data for set2 e\n",
      "enter the data for set2 f\n",
      "enter the data for set2 g\n",
      "enter the data for set2 h\n",
      "enter the data for set2 i\n",
      "enter the data for set2 j\n",
      "{'d', '6', '8', 'b', '5', 'f', '2', 'g', 'i', '1', 'c', '9', 'h', 'e', 'j', '3', '7', 'a'}\n"
     ]
    }
   ],
   "source": [
    "#9. Write a Python program to create a union of sets\n",
    "a=set()\n",
    "b=set()\n",
    "for i in range(1,10):\n",
    "  a1=input(\"enter the data for set1 \")\n",
    "  a.add(a1)\n",
    "for j in range(1,10):\n",
    "  a2=input(\"enter the data for set2 \")\n",
    "  b.add(a2)\n",
    "print(a.union(b))"
   ]
  },
  {
   "cell_type": "code",
   "execution_count": 11,
   "id": "35936e94",
   "metadata": {},
   "outputs": [
    {
     "name": "stdout",
     "output_type": "stream",
     "text": [
      "enter the data for set1 1\n",
      "enter the data for set1 2\n",
      "enter the data for set1 3\n",
      "enter the data for set1 4\n",
      "enter the data for set1 5\n",
      "enter the data for set1 6\n",
      "enter the data for set1 7\n",
      "enter a number to search 5\n",
      "the number is present \n"
     ]
    }
   ],
   "source": [
    "#10. Write a Python program to check if a given value is present in a set or not\n",
    "#(Dynamic)\n",
    "a=set()\n",
    "for i in range(1,8):\n",
    "  a1=input(\"enter the data for set1 \")\n",
    "  a.add(a1)\n",
    "s=input(\"enter a number to search \")\n",
    "if s in a:\n",
    "   print(\"the number is present \")\n",
    "else:\n",
    "  print(\"the number is not present \")"
   ]
  },
  {
   "cell_type": "code",
   "execution_count": 1,
   "id": "70e6891f",
   "metadata": {},
   "outputs": [
    {
     "name": "stdout",
     "output_type": "stream",
     "text": [
      " cat dog dog cat horse dog dog mouse horse dog mouse tiger lion tiger cat mouse snail\n",
      "{'cat': 3, 'dog': 5, 'mouse': 3}\n"
     ]
    }
   ],
   "source": [
    "#11. Write a Python program to find the occurrences of 3 most common words in a\n",
    "#given text. And make it as a dictionaries\n",
    "#Ex:\n",
    "#Input:\n",
    "#” Cat dog dog cat horse dog dog mouse horse dog mouse tiger lion tiger\n",
    "#cat mouse snail”\n",
    "#Output: (“dog”:5,”cat”:3,” mouse”;3)\n",
    "\n",
    "name=input()\n",
    "check=name.split()\n",
    "dic={}\n",
    "for names in check:\n",
    "    if name.count(names)>=3:\n",
    "        dic.update({names:name.count(names)})\n",
    "print(dic)"
   ]
  },
  {
   "cell_type": "code",
   "execution_count": 12,
   "id": "1c8eba4c",
   "metadata": {},
   "outputs": [
    {
     "name": "stdout",
     "output_type": "stream",
     "text": [
      "Type the name of the subject Eng,Mat,Sci,Soc,Tel,Hin: english\n",
      "Type the marks in this subject: 98\n",
      "Type the name of the subject Eng,Mat,Sci,Soc,Tel,Hin: mat\n",
      "Type the marks in this subject: 100\n",
      "Type the name of the subject Eng,Mat,Sci,Soc,Tel,Hin: sci\n",
      "Type the marks in this subject: 95\n",
      "Type the name of the subject Eng,Mat,Sci,Soc,Tel,Hin: tel\n",
      "Type the marks in this subject: 98\n",
      "Type the name of the subject Eng,Mat,Sci,Soc,Tel,Hin: soc\n",
      "Type the marks in this subject: 99\n",
      "Type the name of the subject Eng,Mat,Sci,Soc,Tel,Hin: hin\n",
      "Type the marks in this subject: 99\n",
      "{'english': 98, 'mat': 100, 'sci': 95, 'tel': 98, 'soc': 99, 'hin': 99}\n"
     ]
    }
   ],
   "source": [
    "#12. Write a Python program that accepts name of given subject and mark, and\n",
    "#make subjects as keys in dictionaries and marks as values and print the final\n",
    "#dictionary with subjects and marks\n",
    "d={}\n",
    "for y in range(6):\n",
    "    subject=input(\"Type the name of the subject Eng,Mat,Sci,Soc,Tel,Hin: \")\n",
    "    marks=int(input(\"Type the marks in this subject: \"))\n",
    "    d.update({subject:marks})\n",
    "print(d)    \n"
   ]
  },
  {
   "cell_type": "code",
   "execution_count": null,
   "id": "81cebb6d",
   "metadata": {},
   "outputs": [],
   "source": []
  },
  {
   "cell_type": "code",
   "execution_count": null,
   "id": "4087d707",
   "metadata": {},
   "outputs": [],
   "source": []
  },
  {
   "cell_type": "code",
   "execution_count": null,
   "id": "f2b45fcb",
   "metadata": {},
   "outputs": [],
   "source": []
  },
  {
   "cell_type": "code",
   "execution_count": null,
   "id": "30ba4242",
   "metadata": {},
   "outputs": [],
   "source": []
  },
  {
   "cell_type": "code",
   "execution_count": null,
   "id": "b0743839",
   "metadata": {},
   "outputs": [],
   "source": []
  },
  {
   "cell_type": "code",
   "execution_count": null,
   "id": "a9f41d48",
   "metadata": {},
   "outputs": [],
   "source": []
  },
  {
   "cell_type": "code",
   "execution_count": null,
   "id": "ef5dc1ec",
   "metadata": {},
   "outputs": [],
   "source": []
  },
  {
   "cell_type": "code",
   "execution_count": null,
   "id": "7339f01c",
   "metadata": {},
   "outputs": [],
   "source": []
  },
  {
   "cell_type": "code",
   "execution_count": null,
   "id": "a970e6a3",
   "metadata": {},
   "outputs": [],
   "source": []
  }
 ],
 "metadata": {
  "kernelspec": {
   "display_name": "Python 3 (ipykernel)",
   "language": "python",
   "name": "python3"
  },
  "language_info": {
   "codemirror_mode": {
    "name": "ipython",
    "version": 3
   },
   "file_extension": ".py",
   "mimetype": "text/x-python",
   "name": "python",
   "nbconvert_exporter": "python",
   "pygments_lexer": "ipython3",
   "version": "3.9.13"
  }
 },
 "nbformat": 4,
 "nbformat_minor": 5
}
